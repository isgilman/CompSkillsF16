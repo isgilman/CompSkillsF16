{
 "cells": [
  {
   "cell_type": "markdown",
   "metadata": {},
   "source": [
    "# Homework 1"
   ]
  },
  {
   "cell_type": "markdown",
   "metadata": {},
   "source": [
    "## Practice markdown formatting\n",
    "Add markdown formatting to this paragraph so that the sentences are literally true.\n",
    "\n",
    "The following is a third level heading:\n",
    "\n",
    "Practice lists\n",
    "\n",
    "This word is in italics.\n",
    "This word is in bold.\n",
    "\n",
    "This is the first item in a numbered list; this is the second; this is the third.\n",
    "\n",
    "This is the first item in a bulleted list; this is the second; this is the third; this is the fourth.\n",
    "\n",
    "the following is a third level heading\n",
    "\n",
    "Practice indents\n",
    "\n",
    "The following paragraph is indented, like a long quote:\n",
    "\n",
    "When in the course of human events, it becomes necessary for one people to dissolve the political bands which have held them to another, it is their duty, to cast off their bonds and to affume among the powers of the earth that separate and equal station to which the laws of nature and of nature's god entitle them."
   ]
  },
  {
   "cell_type": "markdown",
   "metadata": {},
   "source": [
    "## Practice markdown formatting \n",
    "Add markdown formatting to this paragraph so that the sentences are literally true.\n",
    "\n",
    "## The following is a third level heading:\n",
    "\n",
    "### Practice lists\n",
    "\n",
    "This word is in *italics*.\n",
    "This word is in **bold**.\n",
    "\n",
    "1. This is the first item in a numbered list; \n",
    "2. this is the second; \n",
    "3. this is the third.\n",
    "\n",
    "\n",
    "* This is the first item in a bulleted list; \n",
    "* this is the second; \n",
    "* this is the third; \n",
    "* this is the fourth.\n",
    "\n",
    "the following is a third level heading\n",
    "\n",
    "### Practice indents\n",
    "\n",
    "The following paragraph is indented, like a long quote:\n",
    "\n",
    ">When in the course of human events, it becomes necessary for one people to dissolve the political bands which have held them to another, it is their duty, to cast off their bonds and to affume among the powers of the earth that separate and equal station to which the laws of nature and of nature's god entitle them."
   ]
  },
  {
   "cell_type": "code",
   "execution_count": null,
   "metadata": {
    "collapsed": true
   },
   "outputs": [],
   "source": []
  }
 ],
 "metadata": {
  "kernelspec": {
   "display_name": "Python 3",
   "language": "python",
   "name": "python3"
  },
  "language_info": {
   "codemirror_mode": {
    "name": "ipython",
    "version": 3
   },
   "file_extension": ".py",
   "mimetype": "text/x-python",
   "name": "python",
   "nbconvert_exporter": "python",
   "pygments_lexer": "ipython3",
   "version": "3.4.4"
  }
 },
 "nbformat": 4,
 "nbformat_minor": 0
}
